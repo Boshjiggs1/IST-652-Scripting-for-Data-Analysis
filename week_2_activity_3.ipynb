{
  "nbformat": 4,
  "nbformat_minor": 0,
  "metadata": {
    "colab": {
      "name": "week 2 activity 3.ipynb",
      "provenance": [],
      "authorship_tag": "ABX9TyPTc6azWswH8oljGYRea2OS",
      "include_colab_link": true
    },
    "kernelspec": {
      "name": "python3",
      "display_name": "Python 3"
    },
    "language_info": {
      "name": "python"
    }
  },
  "cells": [
    {
      "cell_type": "markdown",
      "metadata": {
        "id": "view-in-github",
        "colab_type": "text"
      },
      "source": [
        "<a href=\"https://colab.research.google.com/github/Boshjiggs1/IST-652-Scripting-for-Data-Analysis/blob/Week-2/week_2_activity_3.ipynb\" target=\"_parent\"><img src=\"https://colab.research.google.com/assets/colab-badge.svg\" alt=\"Open In Colab\"/></a>"
      ]
    },
    {
      "cell_type": "code",
      "execution_count": null,
      "metadata": {
        "colab": {
          "base_uri": "https://localhost:8080/"
        },
        "id": "70CCqye4mHlw",
        "outputId": "007b0f0e-7929-4535-e724-47452c7893b0"
      },
      "outputs": [
        {
          "output_type": "execute_result",
          "data": {
            "text/plain": [
              "tuple"
            ]
          },
          "metadata": {},
          "execution_count": 1
        }
      ],
      "source": [
        "#create tuple\n",
        "player_names = 'Meier', 'Hertl', 'Reimer', 'Hill', 'Vlasic'\n",
        "type(player_names)"
      ]
    },
    {
      "cell_type": "code",
      "source": [
        "#length of tuple\n",
        "len(player_names)"
      ],
      "metadata": {
        "colab": {
          "base_uri": "https://localhost:8080/"
        },
        "id": "imKrrFWfmjEK",
        "outputId": "9e09b77e-b162-465b-e85f-375b7150a4e8"
      },
      "execution_count": null,
      "outputs": [
        {
          "output_type": "execute_result",
          "data": {
            "text/plain": [
              "5"
            ]
          },
          "metadata": {},
          "execution_count": 2
        }
      ]
    },
    {
      "cell_type": "code",
      "source": [
        "#print out all elements\n",
        "for i in player_names:\n",
        "    print(i)"
      ],
      "metadata": {
        "colab": {
          "base_uri": "https://localhost:8080/"
        },
        "id": "-eyDwksAmlI6",
        "outputId": "9967a155-15a3-4ab3-eb99-a73fffce49a8"
      },
      "execution_count": null,
      "outputs": [
        {
          "output_type": "stream",
          "name": "stdout",
          "text": [
            "Meier\n",
            "Hertl\n",
            "Reimer\n",
            "Hill\n",
            "Vlasic\n"
          ]
        }
      ]
    }
  ]
}