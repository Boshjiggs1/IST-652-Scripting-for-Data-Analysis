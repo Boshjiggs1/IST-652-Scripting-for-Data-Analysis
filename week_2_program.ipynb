{
  "nbformat": 4,
  "nbformat_minor": 0,
  "metadata": {
    "colab": {
      "name": "week 2 program",
      "provenance": [],
      "authorship_tag": "ABX9TyNaloea3+Jk5M0/7TJgHxYM",
      "include_colab_link": true
    },
    "kernelspec": {
      "name": "python3",
      "display_name": "Python 3"
    },
    "language_info": {
      "name": "python"
    }
  },
  "cells": [
    {
      "cell_type": "markdown",
      "metadata": {
        "id": "view-in-github",
        "colab_type": "text"
      },
      "source": [
        "<a href=\"https://colab.research.google.com/github/Boshjiggs1/IST-652-Scripting-for-Data-Analysis/blob/Week-2/week_2_program.ipynb\" target=\"_parent\"><img src=\"https://colab.research.google.com/assets/colab-badge.svg\" alt=\"Open In Colab\"/></a>"
      ]
    },
    {
      "cell_type": "code",
      "execution_count": null,
      "metadata": {
        "colab": {
          "base_uri": "https://localhost:8080/"
        },
        "id": "gMYkogbJyROM",
        "outputId": "b74bb658-537b-43a8-f1cf-efd75efd5728"
      },
      "outputs": [
        {
          "name": "stdout",
          "output_type": "stream",
          "text": [
            "How many hours worked? 65\n",
            "What is the pay rate? 25.00\n"
          ]
        }
      ],
      "source": [
        "# Calculate pay\n",
        "# Created by: Josh Biggs-Bauer\n",
        "# Date created: 2022-04-16\n",
        "# Purpose: calculate pay for hours worked and rate of pay.\n",
        "\n",
        "# Inputs for User\n",
        "hours = input(\"How many hours worked? \")\n",
        "pay_rate = input(\"What is the pay rate? \")"
      ]
    },
    {
      "cell_type": "code",
      "source": [
        "# Hours and pay to float - calculate pay\n",
        "pay = float(hours) * float(pay_rate)"
      ],
      "metadata": {
        "id": "jMyMYJXryx0F"
      },
      "execution_count": null,
      "outputs": []
    },
    {
      "cell_type": "code",
      "source": [
        "# Print results\n",
        "print(\"Your payment is ${:.2f}\".format(pay))"
      ],
      "metadata": {
        "colab": {
          "base_uri": "https://localhost:8080/"
        },
        "id": "edVMJ3gZy7Mj",
        "outputId": "bae36065-e1c4-468a-971b-82b643fff206"
      },
      "execution_count": null,
      "outputs": [
        {
          "output_type": "stream",
          "name": "stdout",
          "text": [
            "Your payment is $1625.00\n"
          ]
        }
      ]
    },
    {
      "cell_type": "code",
      "source": [],
      "metadata": {
        "id": "m57gX8cay_Bb"
      },
      "execution_count": null,
      "outputs": []
    }
  ]
}