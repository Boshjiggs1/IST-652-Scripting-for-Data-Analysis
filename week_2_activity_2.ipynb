{
  "nbformat": 4,
  "nbformat_minor": 0,
  "metadata": {
    "colab": {
      "name": "week 2 activity 2",
      "provenance": [],
      "authorship_tag": "ABX9TyMrraiogcel+YULwbhTg7Ep",
      "include_colab_link": true
    },
    "kernelspec": {
      "name": "python3",
      "display_name": "Python 3"
    },
    "language_info": {
      "name": "python"
    }
  },
  "cells": [
    {
      "cell_type": "markdown",
      "metadata": {
        "id": "view-in-github",
        "colab_type": "text"
      },
      "source": [
        "<a href=\"https://colab.research.google.com/github/Boshjiggs1/IST-652-Scripting-for-Data-Analysis/blob/main/week_2_activity_2.ipynb\" target=\"_parent\"><img src=\"https://colab.research.google.com/assets/colab-badge.svg\" alt=\"Open In Colab\"/></a>"
      ]
    },
    {
      "cell_type": "code",
      "execution_count": null,
      "metadata": {
        "id": "L7GqKeK2iSqB"
      },
      "outputs": [],
      "source": [
        "#Assign string\n",
        "the_str = 'X-DSPAM-Confidence:0.8475'"
      ]
    },
    {
      "cell_type": "code",
      "source": [
        "#find the colon\n",
        "colon = the_str.find(\":\")"
      ],
      "metadata": {
        "id": "mRXS9DZMjUXC"
      },
      "execution_count": null,
      "outputs": []
    },
    {
      "cell_type": "code",
      "source": [
        "#convert string to float\n",
        "confidence = float(the_str[colon+1:])"
      ],
      "metadata": {
        "id": "51aBn-TmjW_c"
      },
      "execution_count": null,
      "outputs": []
    },
    {
      "cell_type": "code",
      "source": [
        "#print the confidence result\n",
        "\"The confidence is: {:.2f}\".format(confidence)"
      ],
      "metadata": {
        "colab": {
          "base_uri": "https://localhost:8080/",
          "height": 37
        },
        "id": "U526GmwUjcQk",
        "outputId": "e5b3fb49-7ada-40ba-a679-50cb015ac9d6"
      },
      "execution_count": null,
      "outputs": [
        {
          "output_type": "execute_result",
          "data": {
            "text/plain": [
              "'The confidence is: 0.85'"
            ],
            "application/vnd.google.colaboratory.intrinsic+json": {
              "type": "string"
            }
          },
          "metadata": {},
          "execution_count": 9
        }
      ]
    }
  ]
}